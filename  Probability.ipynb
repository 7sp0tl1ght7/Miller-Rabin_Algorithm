{
 "cells": [
  {
   "cell_type": "code",
   "execution_count": 1,
   "metadata": {},
   "outputs": [],
   "source": [
    "def razlojenie(n):\n",
    "    m = n - 1\n",
    "    k = 0\n",
    "    l = 0\n",
    "    while True:\n",
    "        if is_even(m):\n",
    "            k += 1\n",
    "            m = m / 2\n",
    "        elif Mod(m,3) == 0:\n",
    "            l += 1\n",
    "            m = m / 3\n",
    "        else:\n",
    "            return k, l, m\n",
    "    \n",
    "def bigfor(n, k, l, m, a):\n",
    "    a = pow(int(a),int(m),int(n))\n",
    "    if a == 1:\n",
    "        return 'Probably prime'\n",
    "    for i in range(l):\n",
    "        b = pow(a,2,n)\n",
    "        if (a + b + 1) % n == 0:\n",
    "            return 'Probably prime'\n",
    "        a = Mod(a*b,n)\n",
    "    for j in range(k):\n",
    "        if (a + 1) % n == 0:\n",
    "            return 'Probably prime'\n",
    "        a = pow(a,2,n)\n",
    "    return 'Composite'\n",
    "        \n",
    "def test(mas,k):\n",
    "    mas2 = []\n",
    "    for i in range(len(mas)):\n",
    "        fac = razlojenie(mas[i])\n",
    "        a = Primes()[k - 1]\n",
    "        if bigfor(mas[i],fac[0],fac[1],fac[2],a) == 'Probably prime':\n",
    "            mas2.append(mas[i])\n",
    "    return mas2\n",
    "\n",
    "L = list(map(lambda x: int(x.split(\" \")[1]), open(\"Table of numbers.txt\", \"r\").read().split(\"\\n\")))"
   ]
  },
  {
   "cell_type": "code",
   "execution_count": 3,
   "metadata": {},
   "outputs": [
    {
     "name": "stdout",
     "output_type": "stream",
     "text": [
      "7859/62500\n"
     ]
    }
   ],
   "source": [
    "import random\n",
    "n = 3215031751\n",
    "S = [random.randint(int(n/2),n-1) for i in range(1000000)]\n",
    "fac = razlojenie(n)\n",
    "z = 0\n",
    "for i in range(1000000):\n",
    "    if bigfor(n,fac[0],fac[1],fac[2],S[i]) == 'Probably prime':\n",
    "        z += 1\n",
    "print(z/1000000)"
   ]
  },
  {
   "cell_type": "code",
   "execution_count": null,
   "metadata": {},
   "outputs": [],
   "source": []
  }
 ],
 "metadata": {
  "kernelspec": {
   "display_name": "SageMath 9.1",
   "language": "sage",
   "name": "sagemath"
  },
  "language_info": {
   "codemirror_mode": {
    "name": "ipython",
    "version": 3
   },
   "file_extension": ".py",
   "mimetype": "text/x-python",
   "name": "python",
   "nbconvert_exporter": "python",
   "pygments_lexer": "ipython3",
   "version": "3.7.3"
  }
 },
 "nbformat": 4,
 "nbformat_minor": 2
}
