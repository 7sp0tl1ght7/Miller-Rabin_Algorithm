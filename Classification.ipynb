{
 "cells": [
  {
   "cell_type": "code",
   "execution_count": 2,
   "metadata": {},
   "outputs": [],
   "source": [
    "def is_Carmichael(n):\n",
    "    f = factor(n) \n",
    "    for i in range(len(f)):\n",
    "        if (n - 1) % (f[i][0] - 1) != 0 or f[i][1] != 1: \n",
    "            return False\n",
    "    return True\n",
    "\n",
    "def classification(L):\n",
    "    mas1,mas2,mas3,mas4 = [],[],[],[]\n",
    "    for i in L:\n",
    "        fac = factor(i)\n",
    "        if len(fac) == 2 and (fac[1][0] - 1) % (fac[0][0] - 1) == 0:\n",
    "            mas1.append(i)\n",
    "        elif len(fac) == 2: \n",
    "            mas2.append(i)\n",
    "        else:\n",
    "            if is_Carmichael(i):\n",
    "                mas3.append(i)\n",
    "            else:\n",
    "                mas4.append(i)\n",
    "    return(mas1,mas2,mas3,mas4)\n",
    "    \n",
    "L = list(map(lambda x: int(x.split(\" \")[1]), open(\"Table of numbers.txt\", \"r\").read().split(\"\\n\")))"
   ]
  },
  {
   "cell_type": "code",
   "execution_count": 3,
   "metadata": {},
   "outputs": [],
   "source": [
    "mas1, mas2, mas3, mas4 = classification(L)"
   ]
  }
 ],
 "metadata": {
  "kernelspec": {
   "display_name": "SageMath 9.1",
   "language": "sage",
   "name": "sagemath"
  },
  "language_info": {
   "codemirror_mode": {
    "name": "ipython",
    "version": 3
   },
   "file_extension": ".py",
   "mimetype": "text/x-python",
   "name": "python",
   "nbconvert_exporter": "python",
   "pygments_lexer": "ipython3",
   "version": "3.7.3"
  }
 },
 "nbformat": 4,
 "nbformat_minor": 4
}
