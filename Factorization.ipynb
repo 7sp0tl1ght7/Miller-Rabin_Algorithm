{
 "cells": [
  {
   "cell_type": "code",
   "execution_count": 1,
   "metadata": {},
   "outputs": [
    {
     "name": "stdout",
     "output_type": "stream",
     "text": [
      "D= 25720254009\n",
      "s= 160375.35349610302\n",
      "D= 38580381016\n",
      "s= 196418.89169832927\n",
      "D= 51440508025\n",
      "s= 226805.0\n",
      "x= 28350\n",
      "p= 28351 q= 113401\n"
     ]
    }
   ],
   "source": [
    "n = 3215031751\n",
    "for k in range(2,100):\n",
    "    D = pow(k-1,2) + 4*k*n\n",
    "    print('D=',D)\n",
    "    s = math.sqrt(D)\n",
    "    print('s=',s)\n",
    "    if s % 1 == 0:\n",
    "        x = int(((k-1)*(-1) + s) / (2*k))\n",
    "        print('x=',x)\n",
    "        break\n",
    "p = x + 1\n",
    "q = k*x + 1\n",
    "print('p=',p,'q=',q)"
   ]
  },
  {
   "cell_type": "code",
   "execution_count": null,
   "metadata": {},
   "outputs": [],
   "source": []
  }
 ],
 "metadata": {
  "kernelspec": {
   "display_name": "SageMath 9.1",
   "language": "sage",
   "name": "sagemath"
  },
  "language_info": {
   "codemirror_mode": {
    "name": "ipython",
    "version": 3
   },
   "file_extension": ".py",
   "mimetype": "text/x-python",
   "name": "python",
   "nbconvert_exporter": "python",
   "pygments_lexer": "ipython3",
   "version": "3.7.3"
  }
 },
 "nbformat": 4,
 "nbformat_minor": 2
}
