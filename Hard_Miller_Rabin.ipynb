{
 "cells": [
  {
   "cell_type": "code",
   "execution_count": 41,
   "metadata": {},
   "outputs": [],
   "source": [
    "\n",
    "def razlojenie(n):\n",
    "    m = n - 1\n",
    "    k = 0\n",
    "    l = 0\n",
    "    while True:\n",
    "        if is_even(m):\n",
    "            k += 1\n",
    "            m = m / 2\n",
    "        elif Mod(m,3) == 0:\n",
    "            l += 1\n",
    "            m = m / 3\n",
    "        else:\n",
    "            return k, l, m\n",
    "    \n",
    "def bigfor(n, k, l, m, a):\n",
    "    a = __builtin__.pow(a,m,n)\n",
    "    if a == 1:\n",
    "        return 'Probably prime'\n",
    "    for i in range(l):\n",
    "        b = pow(a,2,n)\n",
    "        if (a + b + 1) % n == 0:\n",
    "            return 'Probably prime'\n",
    "        a = Mod(a*b,n)\n",
    "    for j in range(k):\n",
    "        if (a + 1) % n == 0:\n",
    "            return 'Probably prime'\n",
    "        a = pow(a,2,n)\n",
    "    return 'Composite'\n",
    "        \n",
    "def test(mas,k):\n",
    "    mas2 = []\n",
    "    for i in range(len(mas)):\n",
    "        fac = razlojenie(mas[i])\n",
    "        a = Primes()[k - 1]\n",
    "        if bigfor(mas[i],fac[0],fac[1],fac[2],a) == 'Probably prime':\n",
    "            mas2.append(mas[i])\n",
    "    return mas2\n",
    "\n",
    "L = list(map(lambda x: int(x.split(\" \")[1]), open(\"Table of numbers.txt\", \"r\").read().split(\"\\n\")))"
   ]
  },
  {
   "cell_type": "code",
   "execution_count": 6,
   "metadata": {},
   "outputs": [
    {
     "name": "stdout",
     "output_type": "stream",
     "text": [
      "Числа, проходящие тест для первого простого основания:\n",
      "\n",
      "15280\n",
      "118670087467\n"
     ]
    }
   ],
   "source": [
    "print('Числа, проходящие тест для первого простого основания:\\n')\n",
    "m1 = test(L,1)\n",
    "print(len(m1))\n",
    "print(m1[0])"
   ]
  },
  {
   "cell_type": "code",
   "execution_count": 7,
   "metadata": {},
   "outputs": [
    {
     "name": "stdout",
     "output_type": "stream",
     "text": [
      "Числа, проходящие тест для первых 2 простых оснований:\n",
      "\n",
      "13143\n",
      "118670087467\n"
     ]
    }
   ],
   "source": [
    "print('Числа, проходящие тест для первых 2 простых оснований:\\n')\n",
    "m2 = test(m1,2)\n",
    "print(len(m2))\n",
    "print(m2[0])"
   ]
  },
  {
   "cell_type": "code",
   "execution_count": 4,
   "metadata": {},
   "outputs": [
    {
     "name": "stdout",
     "output_type": "stream",
     "text": [
      "Числа, проходящие тест для первых 3 простых оснований:\n",
      "\n",
      "10462\n",
      "118670087467\n"
     ]
    }
   ],
   "source": [
    "print('Числа, проходящие тест для первых 3 простых оснований:\\n')\n",
    "m3 = test(m2,3)\n",
    "print(len(m3))\n",
    "print(m3[0])"
   ]
  },
  {
   "cell_type": "code",
   "execution_count": 5,
   "metadata": {},
   "outputs": [
    {
     "name": "stdout",
     "output_type": "stream",
     "text": [
      "Числа, проходящие тест для первых 4 простых оснований:\n",
      "\n",
      "9387\n",
      "118670087467\n"
     ]
    }
   ],
   "source": [
    "print('Числа, проходящие тест для первых 4 простых оснований:\\n')\n",
    "m4 = test(m3,4)\n",
    "print(len(m4))\n",
    "print(m4[0])"
   ]
  },
  {
   "cell_type": "code",
   "execution_count": 6,
   "metadata": {},
   "outputs": [
    {
     "name": "stdout",
     "output_type": "stream",
     "text": [
      "Числа, проходящие тест для первых 5 простых оснований:\n",
      "\n",
      "1200\n",
      "2152302898747\n"
     ]
    }
   ],
   "source": [
    "print('Числа, проходящие тест для первых 5 простых оснований:\\n')\n",
    "m5 = test(m4,5)\n",
    "print(len(m5))\n",
    "print(m5[0])"
   ]
  },
  {
   "cell_type": "code",
   "execution_count": 7,
   "metadata": {},
   "outputs": [
    {
     "name": "stdout",
     "output_type": "stream",
     "text": [
      "Числа, проходящие тест для первых 6 простых оснований:\n",
      "\n",
      "143\n",
      "14981659856001541\n"
     ]
    }
   ],
   "source": [
    "print('Числа, проходящие тест для первых 6 простых оснований:\\n')\n",
    "m6 = test(m5,6)\n",
    "print(len(m6))\n",
    "print(m6[0])"
   ]
  },
  {
   "cell_type": "code",
   "execution_count": 8,
   "metadata": {},
   "outputs": [
    {
     "name": "stdout",
     "output_type": "stream",
     "text": [
      "Числа, проходящие тест для первых 7 простых оснований:\n",
      "\n",
      "25\n",
      "15276810864696481\n"
     ]
    }
   ],
   "source": [
    "print('Числа, проходящие тест для первых 7 простых оснований:\\n')\n",
    "m7 = test(m6,7)\n",
    "print(len(m7))\n",
    "print(m7[0])"
   ]
  },
  {
   "cell_type": "code",
   "execution_count": 9,
   "metadata": {},
   "outputs": [
    {
     "name": "stdout",
     "output_type": "stream",
     "text": [
      "Числа, проходящие тест для первых 8 простых оснований:\n",
      "\n",
      "5\n",
      "84983557412237221\n"
     ]
    }
   ],
   "source": [
    "print('Числа, проходящие тест для первых 8 простых оснований:\\n')\n",
    "m8 = test(m7,8)\n",
    "print(len(m8))\n",
    "print(m8[0])"
   ]
  },
  {
   "cell_type": "code",
   "execution_count": 17,
   "metadata": {},
   "outputs": [
    {
     "name": "stdout",
     "output_type": "stream",
     "text": [
      "Числа, проходящие тест для первых 9 простых оснований:\n",
      "\n",
      "0\n"
     ]
    }
   ],
   "source": [
    "print('Числа, проходящие тест для первых 9 простых оснований:\\n')\n",
    "m9 = test(m8,9)\n",
    "print(len(m9))\n",
    "print(m9[0])"
   ]
  },
  {
   "cell_type": "code",
   "execution_count": 18,
   "metadata": {},
   "outputs": [
    {
     "name": "stdout",
     "output_type": "stream",
     "text": [
      "Числа, проходящие тест для первых 10 простых оснований:\n",
      "\n",
      "0\n"
     ]
    }
   ],
   "source": [
    "print('Числа, проходящие тест для первых 10 простых оснований:\\n')\n",
    "m10 = test(m9,10)\n",
    "print(len(m10))\n",
    "print(m10[0])"
   ]
  },
  {
   "cell_type": "code",
   "execution_count": 19,
   "metadata": {},
   "outputs": [
    {
     "name": "stdout",
     "output_type": "stream",
     "text": [
      "Числа, проходящие тест для первых 11 простых оснований:\n",
      "\n",
      "0\n"
     ]
    }
   ],
   "source": [
    "print('Числа, проходящие тест для первых 11 простых оснований:\\n')\n",
    "m11 = test(m10,11)\n",
    "print(len(m11))\n",
    "print(m11[0])"
   ]
  }
 ],
 "metadata": {
  "kernelspec": {
   "display_name": "SageMath 9.1",
   "language": "sage",
   "name": "sagemath"
  },
  "language_info": {
   "codemirror_mode": {
    "name": "ipython",
    "version": 3
   },
   "file_extension": ".py",
   "mimetype": "text/x-python",
   "name": "python",
   "nbconvert_exporter": "python",
   "pygments_lexer": "ipython3",
   "version": "3.7.3"
  }
 },
 "nbformat": 4,
 "nbformat_minor": 4
}
