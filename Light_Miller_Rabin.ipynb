{
 "cells": [
  {
   "cell_type": "code",
   "execution_count": 1,
   "metadata": {
    "scrolled": false
   },
   "outputs": [],
   "source": [
    "from random import randint\n",
    "\n",
    "\n",
    "def razlojenie(n):\n",
    "    u = n - 1\n",
    "    s = 0\n",
    "    while True:\n",
    "        if is_even(u):\n",
    "            s += 1\n",
    "            u = u / 2\n",
    "        else:\n",
    "            break\n",
    "    return s, u\n",
    "    \n",
    "def bigfor(n,s,u,a):\n",
    "    x = pow(a,u,n)\n",
    "    if x != 1 and x != -1:\n",
    "        for j in range(s):\n",
    "            x = Mod(pow(x,2), n)\n",
    "            if x == n - 1:\n",
    "                return 'Probably prime'\n",
    "        return 'Composite'\n",
    "    return 'Probably prime'\n",
    "\n",
    "def test(mas,k):\n",
    "    mas2 = []\n",
    "    for i in range(len(mas)):\n",
    "        fac = razlojenie(mas[i])\n",
    "        a = Primes()[k - 1]\n",
    "        if bigfor(mas[i],fac[0],fac[1],a) == 'Probably prime':\n",
    "            mas2.append(mas[i])\n",
    "    return mas2\n",
    "\n",
    "\n",
    "\n",
    "L = list(map(lambda x: int(x.split(\" \")[1]), open(\"Table of numbers.txt\", \"r\").read().split(\"\\n\")))"
   ]
  },
  {
   "cell_type": "code",
   "execution_count": 16,
   "metadata": {},
   "outputs": [
    {
     "name": "stdout",
     "output_type": "stream",
     "text": [
      "Числа, проходящие тест для первого простого основания:\n",
      "\n",
      "16757\n",
      "\n",
      "3215031751\n"
     ]
    }
   ],
   "source": [
    "print('Числа, проходящие тест для первого простого основания:\\n')\n",
    "m1 = test(L,1)\n",
    "print(f'{len(m1)}\\n')\n",
    "print(m1[0])"
   ]
  },
  {
   "cell_type": "code",
   "execution_count": 17,
   "metadata": {},
   "outputs": [
    {
     "name": "stdout",
     "output_type": "stream",
     "text": [
      "Числа, проходящие тест для первых 2 простых оснований:\n",
      "\n",
      "16757\n",
      "\n",
      "3215031751\n"
     ]
    }
   ],
   "source": [
    "print('Числа, проходящие тест для первых 2 простых оснований:\\n')\n",
    "m2 = test(m1,2)\n",
    "print(f'{len(m2)}\\n')\n",
    "print(m2[0])"
   ]
  },
  {
   "cell_type": "code",
   "execution_count": 18,
   "metadata": {},
   "outputs": [
    {
     "name": "stdout",
     "output_type": "stream",
     "text": [
      "Числа, проходящие тест для первых 3 простых оснований:\n",
      "\n",
      "16757\n",
      "\n",
      "3215031751\n"
     ]
    }
   ],
   "source": [
    "print('Числа, проходящие тест для первых 3 простых оснований:\\n')\n",
    "m3 = test(m2,3)\n",
    "print(f'{len(m3)}\\n')\n",
    "print(m3[0])"
   ]
  },
  {
   "cell_type": "code",
   "execution_count": 19,
   "metadata": {},
   "outputs": [
    {
     "name": "stdout",
     "output_type": "stream",
     "text": [
      "Числа, проходящие тест для первых 4 простых оснований:\n",
      "\n",
      "16757\n",
      "\n",
      "3215031751\n"
     ]
    }
   ],
   "source": [
    "print('Числа, проходящие тест для первых 4 простых оснований:\\n')\n",
    "m4 = test(m3,4)\n",
    "print(f'{len(m4)}\\n')\n",
    "print(m4[0])"
   ]
  },
  {
   "cell_type": "code",
   "execution_count": 20,
   "metadata": {},
   "outputs": [
    {
     "name": "stdout",
     "output_type": "stream",
     "text": [
      "Числа, проходящие тест для первых 5 простых оснований:\n",
      "\n",
      "2380\n",
      "\n",
      "2152302898747\n"
     ]
    }
   ],
   "source": [
    "print('Числа, проходящие тест для первых 5 простых оснований:\\n')\n",
    "m5 = test(m4,5)\n",
    "print(f'{len(m5)}\\n')\n",
    "print(m5[0])"
   ]
  },
  {
   "cell_type": "code",
   "execution_count": 21,
   "metadata": {},
   "outputs": [
    {
     "name": "stdout",
     "output_type": "stream",
     "text": [
      "Числа, проходящие тест для первых 6 простых оснований:\n",
      "\n",
      "338\n",
      "\n",
      "3474749660383\n"
     ]
    }
   ],
   "source": [
    "print('Числа, проходящие тест для первых 6 простых оснований:\\n')\n",
    "m6 = test(m5,6)\n",
    "print(f'{len(m6)}\\n')\n",
    "print(m6[0])"
   ]
  },
  {
   "cell_type": "code",
   "execution_count": 22,
   "metadata": {},
   "outputs": [
    {
     "name": "stdout",
     "output_type": "stream",
     "text": [
      "Числа, проходящие тест для первых 7 простых оснований:\n",
      "\n",
      "54\n",
      "\n",
      "341550071728321\n"
     ]
    }
   ],
   "source": [
    "print('Числа, проходящие тест для первых 7 простых оснований:\\n')\n",
    "m7 = test(m6,7)\n",
    "print(f'{len(m7)}\\n')\n",
    "print(m7[0])"
   ]
  },
  {
   "cell_type": "code",
   "execution_count": 23,
   "metadata": {},
   "outputs": [
    {
     "name": "stdout",
     "output_type": "stream",
     "text": [
      "Числа, проходящие тест для первых 8 простых оснований:\n",
      "\n",
      "14\n",
      "\n",
      "341550071728321\n"
     ]
    }
   ],
   "source": [
    "print('Числа, проходящие тест для первых 8 простых оснований:\\n')\n",
    "m8 = test(m7,8)\n",
    "print(f'{len(m8)}\\n')\n",
    "print(m8[0])"
   ]
  },
  {
   "cell_type": "code",
   "execution_count": 24,
   "metadata": {},
   "outputs": [
    {
     "name": "stdout",
     "output_type": "stream",
     "text": [
      "Числа, проходящие тест для первых 9 простых оснований:\n",
      "\n",
      "1\n",
      "\n",
      "3825123056546413051\n"
     ]
    }
   ],
   "source": [
    "print('Числа, проходящие тест для первых 9 простых оснований:\\n')\n",
    "m9 = test(m8,9)\n",
    "print(f'{len(m9)}\\n')\n",
    "print(m9[0])"
   ]
  },
  {
   "cell_type": "code",
   "execution_count": 25,
   "metadata": {},
   "outputs": [
    {
     "name": "stdout",
     "output_type": "stream",
     "text": [
      "Числа, проходящие тест для первых 10 простых оснований:\n",
      "\n",
      "1\n",
      "\n",
      "3825123056546413051\n"
     ]
    }
   ],
   "source": [
    "print('Числа, проходящие тест для первых 10 простых оснований:\\n')\n",
    "m10 = test(m9,10)\n",
    "print(f'{len(m10)}\\n')\n",
    "print(m10[0])"
   ]
  },
  {
   "cell_type": "code",
   "execution_count": 26,
   "metadata": {},
   "outputs": [
    {
     "name": "stdout",
     "output_type": "stream",
     "text": [
      "Числа, проходящие тест для первых 11 простых оснований:\n",
      "\n",
      "1\n",
      "\n",
      "3825123056546413051\n"
     ]
    }
   ],
   "source": [
    "print('Числа, проходящие тест для первых 11 простых оснований:\\n')\n",
    "m11 = test(m10,11)\n",
    "print(f'{len(m11)}\\n')\n",
    "print(m11[0])"
   ]
  }
 ],
 "metadata": {
  "kernelspec": {
   "display_name": "SageMath 9.1",
   "language": "sage",
   "name": "sagemath"
  },
  "language_info": {
   "codemirror_mode": {
    "name": "ipython",
    "version": 3
   },
   "file_extension": ".py",
   "mimetype": "text/x-python",
   "name": "python",
   "nbconvert_exporter": "python",
   "pygments_lexer": "ipython3",
   "version": "3.7.3"
  }
 },
 "nbformat": 4,
 "nbformat_minor": 4
}
